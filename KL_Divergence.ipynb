{
  "nbformat": 4,
  "nbformat_minor": 0,
  "metadata": {
    "colab": {
      "provenance": []
    },
    "kernelspec": {
      "name": "python3",
      "display_name": "Python 3"
    },
    "language_info": {
      "name": "python"
    }
  },
  "cells": [
    {
      "cell_type": "code",
      "execution_count": 2,
      "metadata": {
        "colab": {
          "base_uri": "https://localhost:8080/"
        },
        "id": "_3ZW9eAHw8zE",
        "outputId": "d9a62897-48da-49d3-fcc0-def34b81ba90"
      },
      "outputs": [
        {
          "output_type": "stream",
          "name": "stdout",
          "text": [
            "KL Divergence: 0.04575811092471789\n"
          ]
        }
      ],
      "source": [
        "from scipy.special import rel_entr\n",
        "import numpy as np\n",
        "\n",
        "# Example probability distributions\n",
        "P = np.array([0.1, 0.4, 0.5])\n",
        "Q = np.array([0.2, 0.3, 0.5])\n",
        "\n",
        "# KL divergence from P to Q\n",
        "kl_divergence = np.sum(rel_entr(P, Q))\n",
        "\n",
        "print(\"KL Divergence:\", kl_divergence)\n"
      ]
    }
  ]
}