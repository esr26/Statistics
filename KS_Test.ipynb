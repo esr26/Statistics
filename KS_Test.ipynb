{
  "nbformat": 4,
  "nbformat_minor": 0,
  "metadata": {
    "colab": {
      "provenance": []
    },
    "kernelspec": {
      "name": "python3",
      "display_name": "Python 3"
    },
    "language_info": {
      "name": "python"
    }
  },
  "cells": [
    {
      "cell_type": "code",
      "execution_count": 1,
      "metadata": {
        "colab": {
          "base_uri": "https://localhost:8080/"
        },
        "id": "_3ZW9eAHw8zE",
        "outputId": "3dc339fc-e9af-4b9d-aacf-9bb21b81bef1"
      },
      "outputs": [
        {
          "output_type": "stream",
          "name": "stdout",
          "text": [
            "KS Statistic: 0.1111111111111111\n",
            "P-value: 1.0\n"
          ]
        }
      ],
      "source": [
        "from scipy.stats import ks_2samp\n",
        "\n",
        "# Example data\n",
        "sample1 = [1, 2, 3, 4, 5, 6, 7, 8, 9]\n",
        "sample2 = [2, 3, 4, 5, 6, 7, 8, 9, 10]\n",
        "\n",
        "# KS test between two samples\n",
        "ks_statistic, p_value = ks_2samp(sample1, sample2)\n",
        "\n",
        "print(\"KS Statistic:\", ks_statistic)\n",
        "print(\"P-value:\", p_value)\n"
      ]
    }
  ]
}